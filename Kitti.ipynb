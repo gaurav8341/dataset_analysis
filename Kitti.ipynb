{
 "cells": [
  {
   "cell_type": "markdown",
   "metadata": {},
   "source": [
    "Kitti dataset analysis\n",
    " "
   ]
  },
  {
   "cell_type": "code",
   "execution_count": 1,
   "metadata": {},
   "outputs": [],
   "source": [
    "import os"
   ]
  },
  {
   "cell_type": "code",
   "execution_count": 2,
   "metadata": {},
   "outputs": [],
   "source": [
    "datadir = 'training\\label_2'"
   ]
  },
  {
   "cell_type": "markdown",
   "metadata": {},
   "source": [
    "Classification Sataset\n",
    "1. How many classes\n",
    "2. How many images per class\n",
    "3. Is there class imbalance\n",
    "\n",
    "Object Detection Dataset\n",
    "1. How many classes\n",
    "2. How many bounding boxes per class\n",
    "3. How many max bounding boxes per image and least bounding box in an image\n",
    "4. Max, minimum bounding box size per class.\n"
   ]
  },
  {
   "cell_type": "markdown",
   "metadata": {},
   "source": [
    "Below is propsed model to store and access kitti dataset"
   ]
  },
  {
   "cell_type": "markdown",
   "metadata": {},
   "source": [
    "Kitti Dataset Annotations Format in Json\n",
    "\n",
    "```\n",
    "{\n",
    "    images : {\n",
    "        image_id : [\n",
    "            {   \n",
    "                name : criteriaName,\n",
    "                Truncation : float, \n",
    "                Occlusion : int,\n",
    "                Alpha : float, \n",
    "                BBox : list(int)[xmin, ymin, xmax, ymax], \n",
    "                3-D Dimention : List(float)[Height, width, length], \n",
    "                Location : [x, y, z], \n",
    "                Rotation : float\n",
    "                annotation_id : id // newly vreated\n",
    "            }\n",
    "        ]\n",
    "    }\n",
    "\n",
    "    Criterias : {\n",
    "        criteriaName : {\n",
    "            <!-- id : int -->\n",
    "            annotations : [annotation_id]\n",
    "            images : [image_id]\n",
    "        }\n",
    "    }\n",
    "}\n",
    "```"
   ]
  },
  {
   "cell_type": "markdown",
   "metadata": {},
   "source": [
    "Coco Like Format"
   ]
  },
  {
   "cell_type": "markdown",
   "metadata": {},
   "source": [
    "```\n",
    "{\n",
    "    images : [\n",
    "        {\n",
    "            image_id : int\n",
    "            file_name : string\n",
    "            height : float\n",
    "            width : float\n",
    "        }\n",
    "    ],\n",
    "\n",
    "    annotations : [\n",
    "        Truncation : float, \n",
    "        Occlusion : int,\n",
    "        Alpha : float, \n",
    "        BBox : list(int)[xmin, ymin, xmax, ymax], \n",
    "        3-D Dimention : List(float)[Height, width, length], \n",
    "        Location : [x, y, z], \n",
    "        Rotation : float\n",
    "        annotation_id : int\n",
    "        image_id : int\n",
    "        criteria_id : int\n",
    "    ],\n",
    "\n",
    "    Criterias : [\n",
    "        {\n",
    "            id : int\n",
    "            Name : str\n",
    "        }\n",
    "    ]\n",
    "}\n",
    "\n",
    "```"
   ]
  },
  {
   "cell_type": "code",
   "execution_count": null,
   "metadata": {},
   "outputs": [],
   "source": [
    "indexNameDict = {\n",
    "    'Criteria': 0,\n",
    "    'Truncation': 1,\n",
    "    'Occlusion': 2,\n",
    "    'Alpha': 3,\n",
    "    'BBox': (4,8),\n",
    "    '3d Dimensions': (8, 11),\n",
    "    'Location': (11,14),\n",
    "    'Rotation': 14\n",
    "}"
   ]
  },
  {
   "cell_type": "code",
   "execution_count": 3,
   "metadata": {},
   "outputs": [],
   "source": [
    "# index to name dictionary\n",
    "import json\n",
    "\n",
    "all_files = os.listdir(datadir)\n",
    "imageDict = dict()\n",
    "criteriaDict = dict()\n",
    "for a in all_files:\n",
    "    with open(os.path.join(datadir, a), 'r') as f:\n",
    "        fileinput = f.read().split('\\n')\n",
    "        fileinput = [f.split(' ') for f in fileinput if len(f.split(' ')) == 15]\n",
    "        imageDict[a[0:-4]] = list()\n",
    "        for i, f in enumerate(fileinput):\n",
    "            FileDict = dict()\n",
    "            for k, v in indexNameDict.items():\n",
    "                if type(v) is tuple:\n",
    "                    FileDict[k] = f[v[0]: v[1]]\n",
    "                else:\n",
    "                    FileDict[k] = f[v]\n",
    "                    if k == 'Criteria':\n",
    "                        if f[v] not in criteriaDict.keys():\n",
    "                            CriDict = dict()\n",
    "                            CriDict['annotations'] = [a[0:-4] + str(i)]\n",
    "                            CriDict['images'] = [a[0:-4]]\n",
    "                            criteriaDict[f[v]] = CriDict\n",
    "                        else:\n",
    "                            criteriaDict[f[v]]['annotations'].append(a[0:-4] + str(i))\n",
    "                            criteriaDict[f[v]]['images'].append(a[0:-4])\n",
    "            FileDict['annotation_id'] = a[0:-4] + str(i)\n",
    "            imageDict[a[0:-4]].append(FileDict)\n",
    "            \n",
    "DataDict = dict()\n",
    "DataDict['images'] = imageDict\n",
    "DataDict['criteria'] = criteriaDict\n",
    "with open('Kitti.json', 'w') as f:\n",
    "    json.dump(DataDict, f, indent = 4)\n"
   ]
  },
  {
   "cell_type": "code",
   "execution_count": 8,
   "metadata": {},
   "outputs": [],
   "source": [
    "# dataDict\n",
    "# range()\n",
    "import json\n",
    "\n",
    "with open('Kittidataimages.json', 'w') as fp:\n",
    "    json.dump(imageDict, fp, indent=4)"
   ]
  },
  {
   "cell_type": "code",
   "execution_count": 9,
   "metadata": {},
   "outputs": [],
   "source": [
    "\n",
    "import json\n",
    "\n",
    "with open('Kittidatacriteria.json', 'w') as fp:\n",
    "    json.dump(criteriaDict, fp, indent=4)"
   ]
  },
  {
   "cell_type": "code",
   "execution_count": 1,
   "metadata": {},
   "outputs": [],
   "source": [
    "import KittiDataset"
   ]
  },
  {
   "cell_type": "code",
   "execution_count": 2,
   "metadata": {},
   "outputs": [],
   "source": [
    "KtDataset = KittiDataset.KittiDataset(path = 'training\\label_2')"
   ]
  },
  {
   "cell_type": "code",
   "execution_count": 3,
   "metadata": {},
   "outputs": [],
   "source": [
    "KtDataset.saveDataset(filePath = 'KittiInCoco.json')"
   ]
  },
  {
   "cell_type": "code",
   "execution_count": 37,
   "metadata": {},
   "outputs": [],
   "source": [
    "import KittiDataset, KittiAnalysis"
   ]
  },
  {
   "cell_type": "code",
   "execution_count": 38,
   "metadata": {},
   "outputs": [],
   "source": [
    "KtDataset = KittiDataset.KittiDataset(datadir = 'training\\label_2')"
   ]
  },
  {
   "cell_type": "code",
   "execution_count": 41,
   "metadata": {},
   "outputs": [
    {
     "ename": "AttributeError",
     "evalue": "'KittiDataset' object has no attribute 'images'",
     "output_type": "error",
     "traceback": [
      "\u001b[1;31m---------------------------------------------------------------------------\u001b[0m",
      "\u001b[1;31mAttributeError\u001b[0m                            Traceback (most recent call last)",
      "\u001b[1;32m~\\AppData\\Local\\Temp/ipykernel_13704/773791787.py\u001b[0m in \u001b[0;36m<module>\u001b[1;34m\u001b[0m\n\u001b[1;32m----> 1\u001b[1;33m \u001b[0mKtDataset\u001b[0m\u001b[1;33m.\u001b[0m\u001b[0mimages\u001b[0m\u001b[1;33m\u001b[0m\u001b[1;33m\u001b[0m\u001b[0m\n\u001b[0m",
      "\u001b[1;31mAttributeError\u001b[0m: 'KittiDataset' object has no attribute 'images'"
     ]
    }
   ],
   "source": [
    "KtDataset.images"
   ]
  },
  {
   "cell_type": "code",
   "execution_count": null,
   "metadata": {},
   "outputs": [],
   "source": []
  }
 ],
 "metadata": {
  "kernelspec": {
   "display_name": "Python ('flask')",
   "language": "python",
   "name": "python3"
  },
  "language_info": {
   "codemirror_mode": {
    "name": "ipython",
    "version": 3
   },
   "file_extension": ".py",
   "mimetype": "text/x-python",
   "name": "python",
   "nbconvert_exporter": "python",
   "pygments_lexer": "ipython3",
   "version": "3.7.11"
  },
  "orig_nbformat": 4,
  "vscode": {
   "interpreter": {
    "hash": "25a19fbe0a9132dfb9279d48d161753c6352f8f9478c2e74383d340069b907c3"
   }
  }
 },
 "nbformat": 4,
 "nbformat_minor": 2
}
