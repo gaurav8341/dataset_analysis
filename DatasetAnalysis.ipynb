{
 "cells": [
  {
   "cell_type": "code",
   "execution_count": 1,
   "metadata": {},
   "outputs": [],
   "source": [
    "import pycocotools.coco as coco\n",
    "import os"
   ]
  },
  {
   "cell_type": "code",
   "execution_count": 2,
   "metadata": {},
   "outputs": [
    {
     "name": "stdout",
     "output_type": "stream",
     "text": [
      "loading annotations into memory...\n",
      "Done (t=1.59s)\n",
      "creating index...\n",
      "index created!\n"
     ]
    }
   ],
   "source": [
    "datadir = 'D:\\Paralaxiom Tutorials\\dataset_analysis\\\\annotations'\n",
    "dataFile = 'instances_val2017.json'\n",
    "coco = coco.COCO(os.path.join(datadir, dataFile))"
   ]
  },
  {
   "cell_type": "code",
   "execution_count": 3,
   "metadata": {},
   "outputs": [
    {
     "data": {
      "text/plain": [
       "dict_keys(['info', 'licenses', 'images', 'annotations', 'categories'])"
      ]
     },
     "execution_count": 3,
     "metadata": {},
     "output_type": "execute_result"
    }
   ],
   "source": [
    "coco.dataset.keys()"
   ]
  },
  {
   "cell_type": "code",
   "execution_count": 4,
   "metadata": {},
   "outputs": [
    {
     "data": {
      "text/plain": [
       "5000"
      ]
     },
     "execution_count": 4,
     "metadata": {},
     "output_type": "execute_result"
    }
   ],
   "source": [
    "len(coco.dataset['images'])"
   ]
  },
  {
   "cell_type": "code",
   "execution_count": 16,
   "metadata": {},
   "outputs": [
    {
     "data": {
      "text/plain": [
       "dict_keys(['supercategory', 'id', 'name'])"
      ]
     },
     "execution_count": 16,
     "metadata": {},
     "output_type": "execute_result"
    }
   ],
   "source": [
    "len(coco.dataset['categories'])\n",
    "coco.dataset['categories'][0].keys()"
   ]
  },
  {
   "cell_type": "code",
   "execution_count": 11,
   "metadata": {},
   "outputs": [
    {
     "data": {
      "text/plain": [
       "[126.74, 240.09, 109.25, 87.4]"
      ]
     },
     "execution_count": 11,
     "metadata": {},
     "output_type": "execute_result"
    }
   ],
   "source": [
    "len(coco.dataset['annotations']) # 36781\n",
    "coco.dataset['annotations'][0].keys() # dict_keys(['segmentation', 'area', 'iscrowd', 'image_id', 'bbox', 'category_id', 'id'])\n",
    "coco.dataset['annotations'][26]['bbox']"
   ]
  },
  {
   "cell_type": "code",
   "execution_count": 13,
   "metadata": {},
   "outputs": [
    {
     "name": "stdout",
     "output_type": "stream",
     "text": [
      "creating index...\n",
      "index created!\n"
     ]
    }
   ],
   "source": [
    "coco.createIndex()"
   ]
  },
  {
   "cell_type": "code",
   "execution_count": 7,
   "metadata": {},
   "outputs": [],
   "source": [
    "categories = coco.loadCats(coco.getCatIds())\n",
    "categoryNames = [cat['name'] for cat in categories]\n",
    "supercategoryNames = set(cat['supercategory'] for cat in categories)\n"
   ]
  },
  {
   "cell_type": "code",
   "execution_count": 6,
   "metadata": {},
   "outputs": [],
   "source": [
    "categoryImagesDict = dict()\n",
    "\n",
    "for catName in categoryNames:\n",
    "    categoryImagesDict[catName] = coco.getImgIds(catIds = coco.getCatIds(catNms = [catName]))"
   ]
  },
  {
   "cell_type": "code",
   "execution_count": 1,
   "metadata": {},
   "outputs": [],
   "source": [
    "from CocoAnalysis import Dataset\n",
    "import matplotlib.pyplot as plt"
   ]
  },
  {
   "cell_type": "code",
   "execution_count": 2,
   "metadata": {},
   "outputs": [
    {
     "name": "stdout",
     "output_type": "stream",
     "text": [
      "loading annotations into memory...\n",
      "Done (t=0.67s)\n",
      "creating index...\n",
      "index created!\n",
      "The Dataset has 80 categorie(s)\n",
      "The dataset has 12 supercategorie(s)\n",
      "In dataset, this is the min count of bbox in any image : 1, this is the max count of bbox in any image : 63\n"
     ]
    }
   ],
   "source": [
    "dataset = Dataset('D:\\\\Paralaxiom Tutorials\\\\dataset_analysis\\\\annotations\\\\instances_val2017.json')\n",
    "    \n",
    "print('The Dataset has {} categorie(s)'.format(len(dataset.getCategoryNames())))\n",
    "\n",
    "print('The dataset has {} supercategorie(s)'.format(len(dataset.getSuperCategoryNames())))\n",
    "\n",
    "minBbox, maxBbox = dataset.getMinMaxBBox()\n",
    "print('In dataset, this is the min count of bbox in any image : {}, this is the max count of bbox in any image : {}'.format(minBbox, maxBbox))\n"
   ]
  },
  {
   "cell_type": "code",
   "execution_count": 3,
   "metadata": {},
   "outputs": [
    {
     "data": {
      "image/png": "[encoded data removed]",
      "text/plain": [
       "<Figure size 432x288 with 1 Axes>"
      ]
     },
     "metadata": {
      "needs_background": "light"
     },
     "output_type": "display_data"
    },
    {
     "data": {
      "image/png": "[encoded data removed]",
      "text/plain": [
       "<Figure size 432x288 with 1 Axes>"
      ]
     },
     "metadata": {
      "needs_background": "light"
     },
     "output_type": "display_data"
    }
   ],
   "source": [
    "names = dataset.getCategoryImagesDict().keys()\n",
    "values = [len(value) for value in dataset.getCategoryImagesDict().values()]\n",
    "\n",
    "plt.figure(5)\n",
    "plt.bar(range(len(names)), values)\n",
    "plt.title(label = 'Count of images WRT Category Names')\n",
    "plt.show()\n",
    "\n",
    "names = dataset.getCatToNoBbox().keys()\n",
    "values = dataset.getCatToNoBbox().values()\n",
    "\n",
    "plt.figure(5)\n",
    "plt.bar(range(len(names)), values)\n",
    "plt.title(label = 'Count of Bboxes WRT Category Names')\n",
    "plt.show()\n"
   ]
  },
  {
   "cell_type": "code",
   "execution_count": 4,
   "metadata": {},
   "outputs": [
    {
     "name": "stdout",
     "output_type": "stream",
     "text": [
      "{'person': (4.0040000000000004, 373562.64149999997), 'bicycle': (61.837199999999996, 300794.176), 'car': (13.935899999999998, 299222.4), 'motorcycle': (15.323, 310143.43200000003), 'airplane': (41.533, 240609.76919999998), 'bus': (15.406999999999998, 301687.67199999996), 'train': (713.8291999999999, 409094.4), 'truck': (102.8016, 300292.8), 'boat': (6.772499999999999, 268801.7934), 'traffic light': (2.5134, 78980.0616), 'fire hydrant': (24.241999999999997, 228779.01279999997), 'stop sign': (32.8252, 206706.3309), 'parking meter': (34.1515, 97150.284), 'bench': (32.589, 297443.4633), 'bird': (3.396, 234146), 'cat': (775.086, 351086.839), 'dog': (17.304, 338032.227), 'horse': (20.6264, 185745.33879999997), 'sheep': (25.137, 302547.7876), 'cow': (14.7074, 280247.9316), 'elephant': (212.23559999999998, 305602), 'bear': (442.34979999999996, 329662.40580000007), 'zebra': (265.3828, 270478.0008), 'giraffe': (51.80159999999999, 284476.388), 'backpack': (13.5228, 98515.7226), 'umbrella': (4.7872, 260566.98140000002), 'handbag': (15.3582, 92201.84959999999), 'tie': (10.6554, 88830.6861), 'suitcase': (74.04220000000001, 356979.5644), 'frisbee': (58.3376, 36467.1438), 'skis': (4.687, 163904.0808), 'snowboard': (9.1908, 129994.95), 'sports ball': (3.8232999999999997, 141336), 'kite': (4.7817, 225292), 'baseball bat': (66.3938, 319627), 'baseball glove': (7.2250000000000005, 102048.0165), 'skateboard': (14.606000000000002, 225302.084), 'surfboard': (8.8151, 213860.52), 'tennis racket': (39.2826, 245420.2156), 'bottle': (26.5902, 189696), 'wine glass': (59.3046, 107604), 'cup': (6.9264, 229632), 'fork': (144.0384, 121973.95200000002), 'knife': (11.7764, 118127.67040000002), 'spoon': (24.843599999999995, 95061.24320000001), 'bowl': (41.214800000000004, 371898), 'banana': (78.3812, 332865), 'apple': (13.2784, 215644), 'sandwich': (126.2977, 205330.86560000002), 'orange': (12.69, 299806.56), 'broccoli': (42.502399999999994, 276915.2), 'carrot': (22.197000000000003, 387296), 'hot dog': (82.005, 266137.1311), 'pizza': (26.5144, 364340.67179999995), 'donut': (156.8532, 256971), 'cake': (80.88600000000001, 299180.80000000005), 'chair': (9.0306, 361022.004), 'couch': (502.15200000000004, 357227.97179999994), 'potted plant': (49.265, 334046.0118), 'bed': (2377.102, 307200.0), 'dining table': (11.346, 408678.39999999997), 'toilet': (476.8126, 278991.2704), 'tv': (15.84, 280150.7478), 'laptop': (203.742, 291898.2564), 'mouse': (11.8144, 37101.7504), 'remote': (4.6665, 149419.19600000003), 'keyboard': (83.6496, 254394.7488), 'cell phone': (9.3891, 286718.022), 'microwave': (235.39780000000002, 305474.33280000003), 'oven': (351.68850000000003, 302156.8), 'toaster': (867.9000000000001, 93638.53799999999), 'sink': (31.876999999999995, 250049.9122), 'refrigerator': (911.9568, 315273.66569999995), 'book': (15.071499999999999, 266803), 'clock': (25.2225, 258372.6132), 'vase': (21.525000000000002, 280671.3966), 'scissors': (179.10680000000002, 311072.7048), 'teddy bear': (162.94320000000002, 285293.58520000003), 'hair drier': (316.97749999999996, 74216.04440000001), 'toothbrush': (48.026, 97858.46070000001)}\n"
     ]
    }
   ],
   "source": [
    "print(dataset.getCatMinMaxArea())"
   ]
  },
  {
   "cell_type": "code",
   "execution_count": null,
   "metadata": {},
   "outputs": [],
   "source": []
  },
  {
   "cell_type": "code",
   "execution_count": null,
   "metadata": {},
   "outputs": [],
   "source": []
  }
 ],
 "metadata": {
  "kernelspec": {
   "display_name": "Python ('flask')",
   "language": "python",
   "name": "python3"
  },
  "language_info": {
   "codemirror_mode": {
    "name": "ipython",
    "version": 3
   },
   "file_extension": ".py",
   "mimetype": "text/x-python",
   "name": "python",
   "nbconvert_exporter": "python",
   "pygments_lexer": "ipython3",
   "version": ""
  },
  "orig_nbformat": 4,
  "vscode": {
   "interpreter": {
    "hash": "25a19fbe0a9132dfb9279d48d161753c6352f8f9478c2e74383d340069b907c3"
   }
  }
 },
 "nbformat": 4,
 "nbformat_minor": 2
}
